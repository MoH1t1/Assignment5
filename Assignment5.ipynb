{
  "metadata": {
    "kernelspec": {
      "name": "python",
      "display_name": "Python (Pyodide)",
      "language": "python"
    },
    "language_info": {
      "codemirror_mode": {
        "name": "python",
        "version": 3
      },
      "file_extension": ".py",
      "mimetype": "text/x-python",
      "name": "python",
      "nbconvert_exporter": "python",
      "pygments_lexer": "ipython3",
      "version": "3.8"
    }
  },
  "nbformat_minor": 4,
  "nbformat": 4,
  "cells": [
    {
      "cell_type": "code",
      "source": "# Q1, Create a vehicle class with an init method having instance variables as name_of_vehicle, max_speed and average_of_vehicle.\n\nclass Vehicle:\n    def __init__(self, name_of_vehicle, max_speed, average_of_vehicle):\n        self.name_of_vehicle = name_of_vehicle\n        self.max_speed = max_speed\n        self.average_of_vehicle = average_of_vehicle",
      "metadata": {
        "trusted": true
      },
      "outputs": [],
      "execution_count": 1
    },
    {
      "cell_type": "code",
      "source": "# Q2. Create a child class car from the vehicle class created in Que 1, which will inherit the vehicle class.\n     # Create a method named seating_capacity which takes capacity as an argument and returns the name of the vehicle and its seating capacity.\n\nclass Car(Vehicle):\n    def seating_capacity(self, capacity):\n        return f\"The {self.name_of_vehicle} has a seating capacity of {capacity}.\"\n",
      "metadata": {
        "trusted": true
      },
      "outputs": [],
      "execution_count": 2
    },
    {
      "cell_type": "code",
      "source": "# Q3. What is multiple inheritance? Write a python code to demonstrate multiple inheritance.\n\n# Multiple inheritance occurs when a class inherits from more than one base class.\n\nclass Engine:\n    def engine_type(self):\n        return \"V8 Engine\"\n\nclass Car(Vehicle, Engine):\n    def seating_capacity(self, capacity):\n        return f\"The {self.name_of_vehicle} has a seating capacity of {capacity}.\"\n\ncar = Car(\"Mustang\", 250, 15)\nprint(car.seating_capacity(4))\nprint(car.engine_type())\n",
      "metadata": {
        "trusted": true
      },
      "outputs": [
        {
          "name": "stdout",
          "text": "The Mustang has a seating capacity of 4.\nV8 Engine\n",
          "output_type": "stream"
        }
      ],
      "execution_count": 3
    },
    {
      "cell_type": "code",
      "source": "# Q4. What are getter and setter in python? Create a class and create a getter and a setter method in this class.\n\n# Getter is a method used to access the value of a private attribute, while Setter is a method used to modify the value of a private attribute.\nclass Person:\n    def __init__(self, name):\n        self._name = name\n\n    def get_name(self):\n        return self._name\n\n    def set_name(self, name):\n        self._name = name\n\nperson = Person(\"John\")\nprint(person.get_name()) \nperson.set_name(\"Alice\")\nprint(person.get_name())  \n",
      "metadata": {
        "trusted": true
      },
      "outputs": [
        {
          "name": "stdout",
          "text": "John\nAlice\n",
          "output_type": "stream"
        }
      ],
      "execution_count": 4
    },
    {
      "cell_type": "code",
      "source": "# Q5.What is method overriding in python? Write a python code to demonstrate method overriding.\n\n# Method overriding occurs when a method in a child class has the same name and signature as a method in the parent class, allowing the child class to provide a specific implementation.\n\nclass Animal:\n    def sound(self):\n        return \"Animal sound\"\n\nclass Dog(Animal):\n    def sound(self):\n        return \"Bark\"\n\ndog = Dog()\nprint(dog.sound()) \n",
      "metadata": {
        "trusted": true
      },
      "outputs": [
        {
          "name": "stdout",
          "text": "Bark\n",
          "output_type": "stream"
        }
      ],
      "execution_count": 5
    }
  ]
}